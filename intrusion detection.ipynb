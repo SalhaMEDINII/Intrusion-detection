{
  "cells": [
    {
      "cell_type": "markdown",
      "metadata": {
        "id": "V88TFl70xfLG"
      },
      "source": [
        "**Importation des modules**"
      ]
    },
    {
      "cell_type": "code",
      "execution_count": null,
      "metadata": {
        "id": "sMkB7bC_xuRw"
      },
      "outputs": [],
      "source": [
        "import pandas as pd\n",
        "import numpy as np\n",
        "from sklearn.multiclass import OneVsOneClassifier\n",
        "import matplotlib.pyplot as plt\n",
        "import seaborn as sns\n",
        "from itertools import combinations\n",
        "from sklearn.model_selection import train_test_split\n",
        "from imblearn.over_sampling import SMOTE\n",
        "from sklearn.impute import SimpleImputer\n",
        "from sklearn.metrics import classification_report, confusion_matrix, accuracy_score, precision_score, recall_score, f1_score\n",
        "from sklearn.neighbors import RadiusNeighborsClassifier\n",
        "import time\n",
        "from sklearn.linear_model import LogisticRegression\n",
        "from sklearn.model_selection import cross_val_score\n",
        "from sklearn.model_selection import RandomizedSearchCV\n",
        "from scipy.stats import uniform"
      ]
    },
    {
      "cell_type": "markdown",
      "metadata": {
        "id": "8kCdDAGHyWy_"
      },
      "source": [
        "**Importation du dataset**"
      ]
    },
    {
      "cell_type": "code",
      "execution_count": null,
      "metadata": {
        "id": "LIweWsnnxfY1"
      },
      "outputs": [],
      "source": [
        "data=pd.read_csv('CICIDS2017_sample_km.csv')"
      ]
    },
    {
      "cell_type": "markdown",
      "metadata": {
        "id": "hTQgR20-6Dl3"
      },
      "source": [
        "**Exploration des données**"
      ]
    },
    {
      "cell_type": "code",
      "execution_count": null,
      "metadata": {
        "colab": {
          "base_uri": "https://localhost:8080/",
          "height": 401
        },
        "id": "FPJ6owC9xfbX",
        "outputId": "8edecc1b-d4ad-49be-e159-28f6e4fba463"
      },
      "outputs": [
        {
          "output_type": "execute_result",
          "data": {
            "text/plain": [
              "   Flow Duration  Total Fwd Packets  Total Backward Packets  \\\n",
              "0   5.416666e-07                0.0                0.000003   \n",
              "1   5.416666e-07                0.0                0.000003   \n",
              "2   4.416666e-07                0.0                0.000003   \n",
              "3   7.499999e-07                0.0                0.000003   \n",
              "4   7.249999e-07                0.0                0.000003   \n",
              "\n",
              "   Total Length of Fwd Packets  Total Length of Bwd Packets  \\\n",
              "0                 4.651163e-07                 9.153974e-09   \n",
              "1                 4.651163e-07                 9.153974e-09   \n",
              "2                 4.651163e-07                 9.153974e-09   \n",
              "3                 4.651163e-07                 9.153974e-09   \n",
              "4                 4.651163e-07                 9.153974e-09   \n",
              "\n",
              "   Fwd Packet Length Max  Fwd Packet Length Min  Fwd Packet Length Mean  \\\n",
              "0               0.000242               0.002581                 0.00101   \n",
              "1               0.000242               0.002581                 0.00101   \n",
              "2               0.000242               0.002581                 0.00101   \n",
              "3               0.000242               0.002581                 0.00101   \n",
              "4               0.000242               0.002581                 0.00101   \n",
              "\n",
              "   Fwd Packet Length Std  Bwd Packet Length Max  ...  min_seg_size_forward  \\\n",
              "0                    0.0               0.000307  ...                   1.0   \n",
              "1                    0.0               0.000307  ...                   1.0   \n",
              "2                    0.0               0.000307  ...                   1.0   \n",
              "3                    0.0               0.000307  ...                   1.0   \n",
              "4                    0.0               0.000307  ...                   1.0   \n",
              "\n",
              "   Active Mean  Active Std  Active Max  Active Min  Idle Mean  Idle Std  \\\n",
              "0          0.0         0.0         0.0         0.0        0.0       0.0   \n",
              "1          0.0         0.0         0.0         0.0        0.0       0.0   \n",
              "2          0.0         0.0         0.0         0.0        0.0       0.0   \n",
              "3          0.0         0.0         0.0         0.0        0.0       0.0   \n",
              "4          0.0         0.0         0.0         0.0        0.0       0.0   \n",
              "\n",
              "   Idle Max  Idle Min  Label  \n",
              "0       0.0       0.0      0  \n",
              "1       0.0       0.0      0  \n",
              "2       0.0       0.0      0  \n",
              "3       0.0       0.0      0  \n",
              "4       0.0       0.0      0  \n",
              "\n",
              "[5 rows x 78 columns]"
            ],
            "text/html": [
              "\n",
              "  <div id=\"df-8c9ca3bc-fab0-4183-9072-ab933a4c78ff\">\n",
              "    <div class=\"colab-df-container\">\n",
              "      <div>\n",
              "<style scoped>\n",
              "    .dataframe tbody tr th:only-of-type {\n",
              "        vertical-align: middle;\n",
              "    }\n",
              "\n",
              "    .dataframe tbody tr th {\n",
              "        vertical-align: top;\n",
              "    }\n",
              "\n",
              "    .dataframe thead th {\n",
              "        text-align: right;\n",
              "    }\n",
              "</style>\n",
              "<table border=\"1\" class=\"dataframe\">\n",
              "  <thead>\n",
              "    <tr style=\"text-align: right;\">\n",
              "      <th></th>\n",
              "      <th>Flow Duration</th>\n",
              "      <th>Total Fwd Packets</th>\n",
              "      <th>Total Backward Packets</th>\n",
              "      <th>Total Length of Fwd Packets</th>\n",
              "      <th>Total Length of Bwd Packets</th>\n",
              "      <th>Fwd Packet Length Max</th>\n",
              "      <th>Fwd Packet Length Min</th>\n",
              "      <th>Fwd Packet Length Mean</th>\n",
              "      <th>Fwd Packet Length Std</th>\n",
              "      <th>Bwd Packet Length Max</th>\n",
              "      <th>...</th>\n",
              "      <th>min_seg_size_forward</th>\n",
              "      <th>Active Mean</th>\n",
              "      <th>Active Std</th>\n",
              "      <th>Active Max</th>\n",
              "      <th>Active Min</th>\n",
              "      <th>Idle Mean</th>\n",
              "      <th>Idle Std</th>\n",
              "      <th>Idle Max</th>\n",
              "      <th>Idle Min</th>\n",
              "      <th>Label</th>\n",
              "    </tr>\n",
              "  </thead>\n",
              "  <tbody>\n",
              "    <tr>\n",
              "      <th>0</th>\n",
              "      <td>5.416666e-07</td>\n",
              "      <td>0.0</td>\n",
              "      <td>0.000003</td>\n",
              "      <td>4.651163e-07</td>\n",
              "      <td>9.153974e-09</td>\n",
              "      <td>0.000242</td>\n",
              "      <td>0.002581</td>\n",
              "      <td>0.00101</td>\n",
              "      <td>0.0</td>\n",
              "      <td>0.000307</td>\n",
              "      <td>...</td>\n",
              "      <td>1.0</td>\n",
              "      <td>0.0</td>\n",
              "      <td>0.0</td>\n",
              "      <td>0.0</td>\n",
              "      <td>0.0</td>\n",
              "      <td>0.0</td>\n",
              "      <td>0.0</td>\n",
              "      <td>0.0</td>\n",
              "      <td>0.0</td>\n",
              "      <td>0</td>\n",
              "    </tr>\n",
              "    <tr>\n",
              "      <th>1</th>\n",
              "      <td>5.416666e-07</td>\n",
              "      <td>0.0</td>\n",
              "      <td>0.000003</td>\n",
              "      <td>4.651163e-07</td>\n",
              "      <td>9.153974e-09</td>\n",
              "      <td>0.000242</td>\n",
              "      <td>0.002581</td>\n",
              "      <td>0.00101</td>\n",
              "      <td>0.0</td>\n",
              "      <td>0.000307</td>\n",
              "      <td>...</td>\n",
              "      <td>1.0</td>\n",
              "      <td>0.0</td>\n",
              "      <td>0.0</td>\n",
              "      <td>0.0</td>\n",
              "      <td>0.0</td>\n",
              "      <td>0.0</td>\n",
              "      <td>0.0</td>\n",
              "      <td>0.0</td>\n",
              "      <td>0.0</td>\n",
              "      <td>0</td>\n",
              "    </tr>\n",
              "    <tr>\n",
              "      <th>2</th>\n",
              "      <td>4.416666e-07</td>\n",
              "      <td>0.0</td>\n",
              "      <td>0.000003</td>\n",
              "      <td>4.651163e-07</td>\n",
              "      <td>9.153974e-09</td>\n",
              "      <td>0.000242</td>\n",
              "      <td>0.002581</td>\n",
              "      <td>0.00101</td>\n",
              "      <td>0.0</td>\n",
              "      <td>0.000307</td>\n",
              "      <td>...</td>\n",
              "      <td>1.0</td>\n",
              "      <td>0.0</td>\n",
              "      <td>0.0</td>\n",
              "      <td>0.0</td>\n",
              "      <td>0.0</td>\n",
              "      <td>0.0</td>\n",
              "      <td>0.0</td>\n",
              "      <td>0.0</td>\n",
              "      <td>0.0</td>\n",
              "      <td>0</td>\n",
              "    </tr>\n",
              "    <tr>\n",
              "      <th>3</th>\n",
              "      <td>7.499999e-07</td>\n",
              "      <td>0.0</td>\n",
              "      <td>0.000003</td>\n",
              "      <td>4.651163e-07</td>\n",
              "      <td>9.153974e-09</td>\n",
              "      <td>0.000242</td>\n",
              "      <td>0.002581</td>\n",
              "      <td>0.00101</td>\n",
              "      <td>0.0</td>\n",
              "      <td>0.000307</td>\n",
              "      <td>...</td>\n",
              "      <td>1.0</td>\n",
              "      <td>0.0</td>\n",
              "      <td>0.0</td>\n",
              "      <td>0.0</td>\n",
              "      <td>0.0</td>\n",
              "      <td>0.0</td>\n",
              "      <td>0.0</td>\n",
              "      <td>0.0</td>\n",
              "      <td>0.0</td>\n",
              "      <td>0</td>\n",
              "    </tr>\n",
              "    <tr>\n",
              "      <th>4</th>\n",
              "      <td>7.249999e-07</td>\n",
              "      <td>0.0</td>\n",
              "      <td>0.000003</td>\n",
              "      <td>4.651163e-07</td>\n",
              "      <td>9.153974e-09</td>\n",
              "      <td>0.000242</td>\n",
              "      <td>0.002581</td>\n",
              "      <td>0.00101</td>\n",
              "      <td>0.0</td>\n",
              "      <td>0.000307</td>\n",
              "      <td>...</td>\n",
              "      <td>1.0</td>\n",
              "      <td>0.0</td>\n",
              "      <td>0.0</td>\n",
              "      <td>0.0</td>\n",
              "      <td>0.0</td>\n",
              "      <td>0.0</td>\n",
              "      <td>0.0</td>\n",
              "      <td>0.0</td>\n",
              "      <td>0.0</td>\n",
              "      <td>0</td>\n",
              "    </tr>\n",
              "  </tbody>\n",
              "</table>\n",
              "<p>5 rows × 78 columns</p>\n",
              "</div>\n",
              "      <button class=\"colab-df-convert\" onclick=\"convertToInteractive('df-8c9ca3bc-fab0-4183-9072-ab933a4c78ff')\"\n",
              "              title=\"Convert this dataframe to an interactive table.\"\n",
              "              style=\"display:none;\">\n",
              "        \n",
              "  <svg xmlns=\"http://www.w3.org/2000/svg\" height=\"24px\"viewBox=\"0 0 24 24\"\n",
              "       width=\"24px\">\n",
              "    <path d=\"M0 0h24v24H0V0z\" fill=\"none\"/>\n",
              "    <path d=\"M18.56 5.44l.94 2.06.94-2.06 2.06-.94-2.06-.94-.94-2.06-.94 2.06-2.06.94zm-11 1L8.5 8.5l.94-2.06 2.06-.94-2.06-.94L8.5 2.5l-.94 2.06-2.06.94zm10 10l.94 2.06.94-2.06 2.06-.94-2.06-.94-.94-2.06-.94 2.06-2.06.94z\"/><path d=\"M17.41 7.96l-1.37-1.37c-.4-.4-.92-.59-1.43-.59-.52 0-1.04.2-1.43.59L10.3 9.45l-7.72 7.72c-.78.78-.78 2.05 0 2.83L4 21.41c.39.39.9.59 1.41.59.51 0 1.02-.2 1.41-.59l7.78-7.78 2.81-2.81c.8-.78.8-2.07 0-2.86zM5.41 20L4 18.59l7.72-7.72 1.47 1.35L5.41 20z\"/>\n",
              "  </svg>\n",
              "      </button>\n",
              "      \n",
              "  <style>\n",
              "    .colab-df-container {\n",
              "      display:flex;\n",
              "      flex-wrap:wrap;\n",
              "      gap: 12px;\n",
              "    }\n",
              "\n",
              "    .colab-df-convert {\n",
              "      background-color: #E8F0FE;\n",
              "      border: none;\n",
              "      border-radius: 50%;\n",
              "      cursor: pointer;\n",
              "      display: none;\n",
              "      fill: #1967D2;\n",
              "      height: 32px;\n",
              "      padding: 0 0 0 0;\n",
              "      width: 32px;\n",
              "    }\n",
              "\n",
              "    .colab-df-convert:hover {\n",
              "      background-color: #E2EBFA;\n",
              "      box-shadow: 0px 1px 2px rgba(60, 64, 67, 0.3), 0px 1px 3px 1px rgba(60, 64, 67, 0.15);\n",
              "      fill: #174EA6;\n",
              "    }\n",
              "\n",
              "    [theme=dark] .colab-df-convert {\n",
              "      background-color: #3B4455;\n",
              "      fill: #D2E3FC;\n",
              "    }\n",
              "\n",
              "    [theme=dark] .colab-df-convert:hover {\n",
              "      background-color: #434B5C;\n",
              "      box-shadow: 0px 1px 3px 1px rgba(0, 0, 0, 0.15);\n",
              "      filter: drop-shadow(0px 1px 2px rgba(0, 0, 0, 0.3));\n",
              "      fill: #FFFFFF;\n",
              "    }\n",
              "  </style>\n",
              "\n",
              "      <script>\n",
              "        const buttonEl =\n",
              "          document.querySelector('#df-8c9ca3bc-fab0-4183-9072-ab933a4c78ff button.colab-df-convert');\n",
              "        buttonEl.style.display =\n",
              "          google.colab.kernel.accessAllowed ? 'block' : 'none';\n",
              "\n",
              "        async function convertToInteractive(key) {\n",
              "          const element = document.querySelector('#df-8c9ca3bc-fab0-4183-9072-ab933a4c78ff');\n",
              "          const dataTable =\n",
              "            await google.colab.kernel.invokeFunction('convertToInteractive',\n",
              "                                                     [key], {});\n",
              "          if (!dataTable) return;\n",
              "\n",
              "          const docLinkHtml = 'Like what you see? Visit the ' +\n",
              "            '<a target=\"_blank\" href=https://colab.research.google.com/notebooks/data_table.ipynb>data table notebook</a>'\n",
              "            + ' to learn more about interactive tables.';\n",
              "          element.innerHTML = '';\n",
              "          dataTable['output_type'] = 'display_data';\n",
              "          await google.colab.output.renderOutput(dataTable, element);\n",
              "          const docLink = document.createElement('div');\n",
              "          docLink.innerHTML = docLinkHtml;\n",
              "          element.appendChild(docLink);\n",
              "        }\n",
              "      </script>\n",
              "    </div>\n",
              "  </div>\n",
              "  "
            ]
          },
          "metadata": {},
          "execution_count": 3
        }
      ],
      "source": [
        "data.head()"
      ]
    },
    {
      "cell_type": "code",
      "execution_count": null,
      "metadata": {
        "colab": {
          "base_uri": "https://localhost:8080/"
        },
        "id": "q89YVAEkxfdw",
        "outputId": "00356128-5476-4d58-f09e-40ca2d978fad"
      },
      "outputs": [
        {
          "output_type": "execute_result",
          "data": {
            "text/plain": [
              "(26800, 78)"
            ]
          },
          "metadata": {},
          "execution_count": 4
        }
      ],
      "source": [
        "data.shape"
      ]
    },
    {
      "cell_type": "code",
      "execution_count": null,
      "metadata": {
        "colab": {
          "base_uri": "https://localhost:8080/"
        },
        "id": "oIET9z3g5dzG",
        "outputId": "c1736c15-f4ad-4289-b742-ce805e480a19"
      },
      "outputs": [
        {
          "output_type": "execute_result",
          "data": {
            "text/plain": [
              "0    18225\n",
              "3     3042\n",
              "6     2180\n",
              "1     1966\n",
              "5     1255\n",
              "2       96\n",
              "4       36\n",
              "Name: Label, dtype: int64"
            ]
          },
          "metadata": {},
          "execution_count": 5
        }
      ],
      "source": [
        "lab = data.Label.value_counts()\n",
        "lab"
      ]
    },
    {
      "cell_type": "code",
      "execution_count": null,
      "metadata": {
        "id": "RimnzjxgfdVd"
      },
      "outputs": [],
      "source": [
        "lab_list=[\"BENIGN\", \"Dos\", \"WebAttaque\", \"Bot\", \"PortScan\", \"BruteForce\", \"Infiltration\"]"
      ]
    },
    {
      "cell_type": "code",
      "execution_count": null,
      "metadata": {
        "colab": {
          "base_uri": "https://localhost:8080/",
          "height": 429
        },
        "id": "iOjKVtfWxfgX",
        "outputId": "4860fb00-93e6-4e7a-9f5e-8f5c197da226"
      },
      "outputs": [
        {
          "output_type": "display_data",
          "data": {
            "text/plain": [
              "<Figure size 640x480 with 1 Axes>"
            ],
            "image/png": "[encoded data removed]"
          },
          "metadata": {}
        }
      ],
      "source": [
        "plt.pie(lab, labels=lab_list, autopct='%1.1f%%')\n",
        "plt.title('Diagramme en camembert de la répartition des attaques')\n",
        "plt.show()"
      ]
    },
    {
      "cell_type": "markdown",
      "metadata": {
        "id": "GOpTiFNk5GYF"
      },
      "source": [
        "**D'après ce diagramme en camembert:** on remarque un équilibre entre les classes d'attaques, ce qui doit résolu avant l'étape de modélisation avec une stratégie d’échantillonnage, pour aboutir à un modèle plus performant."
      ]
    },
    {
      "cell_type": "markdown",
      "metadata": {
        "id": "GleaGj2I91fa"
      },
      "source": [
        "**Vérification des données manquantes**"
      ]
    },
    {
      "cell_type": "code",
      "execution_count": null,
      "metadata": {
        "colab": {
          "base_uri": "https://localhost:8080/"
        },
        "id": "05LW_P6u91pv",
        "outputId": "e8ee48ba-e336-4494-87a5-9f28e6cb1498"
      },
      "outputs": [
        {
          "output_type": "execute_result",
          "data": {
            "text/plain": [
              "Flow Duration                  0\n",
              "Total Fwd Packets              0\n",
              "Total Backward Packets         0\n",
              "Total Length of Fwd Packets    0\n",
              "Total Length of Bwd Packets    0\n",
              "                              ..\n",
              "Idle Mean                      0\n",
              "Idle Std                       0\n",
              "Idle Max                       0\n",
              "Idle Min                       0\n",
              "Label                          0\n",
              "Length: 78, dtype: int64"
            ]
          },
          "metadata": {},
          "execution_count": 8
        }
      ],
      "source": [
        "data.isnull().sum()"
      ]
    },
    {
      "cell_type": "markdown",
      "metadata": {
        "id": "9meDlGu4A7-S"
      },
      "source": [
        "**Imputation des valeurs manquantes**"
      ]
    },
    {
      "cell_type": "code",
      "execution_count": null,
      "metadata": {
        "id": "JCTwlM4eCCt6"
      },
      "outputs": [],
      "source": [
        "#Construire une liste contenant les varibales\n",
        "col_list = data.columns.tolist()"
      ]
    },
    {
      "cell_type": "code",
      "execution_count": null,
      "metadata": {
        "id": "gNWtE0-vA8MG"
      },
      "outputs": [],
      "source": [
        "data['Label'].fillna(data['Label'].mode()[0], inplace=True)"
      ]
    },
    {
      "cell_type": "code",
      "execution_count": null,
      "metadata": {
        "id": "a8-nZDjTBoTJ"
      },
      "outputs": [],
      "source": [
        "#Imputer les varibales avec le mode : la valeur la plus fréquentes\n",
        "imputer = SimpleImputer(strategy='most_frequent')\n",
        "data[col_list] = imputer.fit_transform(data[col_list])"
      ]
    },
    {
      "cell_type": "code",
      "execution_count": null,
      "metadata": {
        "colab": {
          "base_uri": "https://localhost:8080/"
        },
        "id": "8mCJxFZo3FJ0",
        "outputId": "4b4f4672-d2c4-4a5a-b304-a1145cd6060b"
      },
      "outputs": [
        {
          "output_type": "execute_result",
          "data": {
            "text/plain": [
              "Flow Duration                  0\n",
              "Total Fwd Packets              0\n",
              "Total Backward Packets         0\n",
              "Total Length of Fwd Packets    0\n",
              "Total Length of Bwd Packets    0\n",
              "                              ..\n",
              "Idle Mean                      0\n",
              "Idle Std                       0\n",
              "Idle Max                       0\n",
              "Idle Min                       0\n",
              "Label                          0\n",
              "Length: 78, dtype: int64"
            ]
          },
          "metadata": {},
          "execution_count": 12
        }
      ],
      "source": [
        "data.isnull().sum()"
      ]
    },
    {
      "cell_type": "markdown",
      "metadata": {
        "id": "54XZj3o2m3Pk"
      },
      "source": [
        "**Encodage des variables catégorielles manuellement pour distinguer les types d'attaques**"
      ]
    },
    {
      "cell_type": "code",
      "execution_count": null,
      "metadata": {
        "id": "pmBls_m6m2XB"
      },
      "outputs": [],
      "source": [
        "#encoding = {'BENIGN':0, 'PortScan':1,'DoS':2,'WebAttack':3,'Bot':4,'BruteForce':5,'Infiltration':6}\n",
        "#data['Label'] = data['Label'].replace(encoding)"
      ]
    },
    {
      "cell_type": "code",
      "execution_count": null,
      "metadata": {
        "colab": {
          "base_uri": "https://localhost:8080/"
        },
        "id": "2WRjMvGenpvB",
        "outputId": "56b857e2-1810-4f9b-e83b-1fd1bcdc49b2"
      },
      "outputs": [
        {
          "output_type": "execute_result",
          "data": {
            "text/plain": [
              "0.0    18225\n",
              "3.0     3042\n",
              "6.0     2180\n",
              "1.0     1966\n",
              "5.0     1255\n",
              "2.0       96\n",
              "4.0       36\n",
              "Name: Label, dtype: int64"
            ]
          },
          "metadata": {},
          "execution_count": 14
        }
      ],
      "source": [
        "data.Label.value_counts()"
      ]
    },
    {
      "cell_type": "markdown",
      "metadata": {
        "id": "VrlCoAdkmBfJ"
      },
      "source": [
        "**Préciser les variables expliquatives et la variable à expliquer**"
      ]
    },
    {
      "cell_type": "code",
      "execution_count": null,
      "metadata": {
        "id": "jPNYYM6j7Pw9"
      },
      "outputs": [],
      "source": [
        "X=data.drop(['Label'], axis=1)\n",
        "y=data['Label']"
      ]
    },
    {
      "cell_type": "markdown",
      "metadata": {
        "id": "Po1OCKFil9e6"
      },
      "source": [
        "**Division des instances du jeu de données en une partie pour l’entrainement\n",
        "et une partie pour le test**"
      ]
    },
    {
      "cell_type": "code",
      "execution_count": null,
      "metadata": {
        "id": "q77c6Y9z6oJt"
      },
      "outputs": [],
      "source": [
        "X_train, X_test, y_train, y_test = train_test_split(X, y, test_size=0.2, random_state=1)"
      ]
    },
    {
      "cell_type": "markdown",
      "metadata": {
        "id": "4l3Y8hPQ7yQ6"
      },
      "source": [
        "**SMOTE pour équilibrer les classes non balancées**"
      ]
    },
    {
      "cell_type": "code",
      "execution_count": null,
      "metadata": {
        "colab": {
          "base_uri": "https://localhost:8080/"
        },
        "id": "bZnH_vKS7vp3",
        "outputId": "68b9ee1c-f0b0-4338-8cd7-e38f55b267fd"
      },
      "outputs": [
        {
          "output_type": "execute_result",
          "data": {
            "text/plain": [
              "0.0    14542\n",
              "3.0     2450\n",
              "6.0     1761\n",
              "1.0     1607\n",
              "5.0      986\n",
              "2.0       66\n",
              "4.0       28\n",
              "Name: Label, dtype: int64"
            ]
          },
          "metadata": {},
          "execution_count": 17
        }
      ],
      "source": [
        "pd.Series(y_train).value_counts()"
      ]
    },
    {
      "cell_type": "code",
      "execution_count": null,
      "metadata": {
        "id": "aqbuG6br857D"
      },
      "outputs": [],
      "source": [
        "smote=SMOTE(n_jobs=1, sampling_strategy={2:1000,4:1000})"
      ]
    },
    {
      "cell_type": "code",
      "execution_count": null,
      "metadata": {
        "colab": {
          "base_uri": "https://localhost:8080/"
        },
        "id": "wqzHkJ2N9eUn",
        "outputId": "e5a064aa-d41e-4eb1-ccef-77703246d80e"
      },
      "outputs": [
        {
          "output_type": "stream",
          "name": "stderr",
          "text": [
            "/usr/local/lib/python3.10/dist-packages/imblearn/over_sampling/_smote/base.py:336: FutureWarning: The parameter `n_jobs` has been deprecated in 0.10 and will be removed in 0.12. You can pass an nearest neighbors estimator where `n_jobs` is already set instead.\n",
            "  warnings.warn(\n"
          ]
        }
      ],
      "source": [
        "X_train, y_train =smote.fit_resample(X_train, y_train )"
      ]
    },
    {
      "cell_type": "code",
      "execution_count": null,
      "metadata": {
        "colab": {
          "base_uri": "https://localhost:8080/"
        },
        "id": "-CG6DuBKOhor",
        "outputId": "aef96283-4ad6-4f1e-93c4-98e2e6183cb0"
      },
      "outputs": [
        {
          "output_type": "execute_result",
          "data": {
            "text/plain": [
              "0.0    14542\n",
              "3.0     2450\n",
              "6.0     1761\n",
              "1.0     1607\n",
              "4.0     1000\n",
              "2.0     1000\n",
              "5.0      986\n",
              "Name: Label, dtype: int64"
            ]
          },
          "metadata": {},
          "execution_count": 20
        }
      ],
      "source": [
        "pd.Series(y_train).value_counts()"
      ]
    },
    {
      "cell_type": "markdown",
      "metadata": {
        "id": "gOtUxlM2D1oL"
      },
      "source": [
        "# **Partie 1 : implémentation du premier classificateur 1 : Logistic Regression**"
      ]
    },
    {
      "cell_type": "markdown",
      "metadata": {
        "id": "yRIFC0soERRY"
      },
      "source": [
        "Le classificateur de régression logistique est un modèle d'apprentissage automatique supervisé utilisé pour prédire la probabilité d'un événement binaire. Il fonctionne en utilisant une fonction de régression logistique pour modéliser la relation entre les variables d'entrée et la variable de sortie binaire.\n",
        "\n",
        "**Fonctionnement** : La fonction de régression logistique prend les valeurs d'entrée et calcule la probabilité de la variable de sortie en utilisant la fonction logistique, qui produit une valeur entre 0 et 1. La probabilité calculée peut ensuite être utilisée pour effectuer une classification binaire en utilisant un seuil de décision, généralement 0,5. Si la probabilité calculée est supérieure au seuil de décision, la classe positive est prédite, sinon la classe négative est prédite."
      ]
    },
    {
      "cell_type": "markdown",
      "metadata": {
        "id": "9ocHNydnkDPL"
      },
      "source": [
        "**Méthode One vs One Classifier**"
      ]
    },
    {
      "cell_type": "code",
      "execution_count": null,
      "metadata": {
        "id": "K0ph2tYsLLs8"
      },
      "outputs": [],
      "source": [
        "clf = OneVsOneClassifier(LogisticRegression(max_iter=1000))"
      ]
    },
    {
      "cell_type": "code",
      "execution_count": null,
      "metadata": {
        "colab": {
          "base_uri": "https://localhost:8080/"
        },
        "id": "IFh4rkMAkOjg",
        "outputId": "5c846612-2acb-4af0-befb-2d69e5d90bc0"
      },
      "outputs": [
        {
          "output_type": "stream",
          "name": "stdout",
          "text": [
            "Temps pour cnstruire le modèle :  4.059496641159058 secondes\n"
          ]
        }
      ],
      "source": [
        "start_time = time.time()\n",
        "clf.fit(X_train, y_train)\n",
        "training_time = time.time() - start_time\n",
        "print(\"Temps pour cnstruire le modèle : \", training_time, \"secondes\")"
      ]
    },
    {
      "cell_type": "code",
      "execution_count": null,
      "metadata": {
        "colab": {
          "base_uri": "https://localhost:8080/"
        },
        "id": "by0STyIxkWqV",
        "outputId": "46df76ec-5069-4723-8bfd-7d725c124907"
      },
      "outputs": [
        {
          "output_type": "stream",
          "name": "stdout",
          "text": [
            "Accuracy: 0.8552238805970149\n"
          ]
        }
      ],
      "source": [
        "y_pred = clf.predict(X_test)\n",
        "accuracy = accuracy_score(y_test, y_pred)\n",
        "print('Accuracy:', accuracy)\n"
      ]
    },
    {
      "cell_type": "code",
      "execution_count": null,
      "metadata": {
        "colab": {
          "base_uri": "https://localhost:8080/"
        },
        "id": "euYhJAk4kfdr",
        "outputId": "9561b41d-72ed-42f6-9ecb-9582f910679f"
      },
      "outputs": [
        {
          "output_type": "stream",
          "name": "stdout",
          "text": [
            "LogisticRegression accuracy 0.8552238805970149\n",
            "LogisticRegression Precision 0.8641543866480274\n",
            "LogisticRegression recall 0.8552238805970149\n",
            "LogisticRegression avrage f1 0.8522098402162099\n"
          ]
        }
      ],
      "source": [
        "\n",
        "print('LogisticRegression accuracy '+str(accuracy_score(y_test, y_pred)))\n",
        "print ('LogisticRegression Precision '+str(precision_score(y_test, y_pred, average='weighted', zero_division=1)))\n",
        "print('LogisticRegression recall '+str(recall_score(y_test, y_pred, average='weighted', zero_division=1)))\n",
        "print('LogisticRegression avrage f1 '+str(f1_score(y_test, y_pred, average='weighted', zero_division=1)))\n",
        "\n"
      ]
    },
    {
      "cell_type": "code",
      "execution_count": null,
      "metadata": {
        "colab": {
          "base_uri": "https://localhost:8080/"
        },
        "id": "8t5KEW8CcEWX",
        "outputId": "ab30826e-048e-4a25-ee1d-4628ff38b840"
      },
      "outputs": [
        {
          "output_type": "stream",
          "name": "stdout",
          "text": [
            "              precision    recall  f1-score   support\n",
            "\n",
            "         0.0       0.89      0.95      0.92      3683\n",
            "         1.0       0.49      0.59      0.54       359\n",
            "         2.0       0.00      0.00      0.00        30\n",
            "         3.0       0.94      0.66      0.77       592\n",
            "         4.0       0.14      0.38      0.20         8\n",
            "         5.0       0.93      0.48      0.63       269\n",
            "         6.0       0.90      0.86      0.88       419\n",
            "\n",
            "    accuracy                           0.86      5360\n",
            "   macro avg       0.61      0.56      0.56      5360\n",
            "weighted avg       0.86      0.86      0.85      5360\n",
            "\n"
          ]
        }
      ],
      "source": [
        "print(classification_report(y_test, y_pred, zero_division=1))"
      ]
    },
    {
      "cell_type": "code",
      "execution_count": null,
      "metadata": {
        "colab": {
          "base_uri": "https://localhost:8080/",
          "height": 696
        },
        "id": "ukfEw3lxemfO",
        "outputId": "427c91ce-c6a0-4b6b-8924-fc764fd84c9f"
      },
      "outputs": [
        {
          "output_type": "display_data",
          "data": {
            "text/plain": [
              "<Figure size 800x800 with 2 Axes>"
            ],
            "image/png": "[encoded data removed]"
          },
          "metadata": {}
        }
      ],
      "source": [
        "cm=confusion_matrix(y_test, y_pred)\n",
        "f, ax = plt.subplots(figsize=(8,8))\n",
        "sns.heatmap(cm, annot=True)\n",
        "plt.xlabel(\"Les classes prédites\")\n",
        "plt.ylabel(\"Les classes réelles\")\n",
        "plt.show()\n"
      ]
    },
    {
      "cell_type": "markdown",
      "metadata": {
        "id": "8CCr6haPZQ24"
      },
      "source": [
        "**La méthode One vs All Manuellement**"
      ]
    },
    {
      "cell_type": "markdown",
      "metadata": {
        "id": "GtY2j359lfkl"
      },
      "source": [
        "**Définir la liste des classes pour boucler sur,  et une liste vide pour stocker les temps de construction des modèles**"
      ]
    },
    {
      "cell_type": "code",
      "execution_count": null,
      "metadata": {
        "id": "nrhEwHgvSNB0"
      },
      "outputs": [],
      "source": [
        "classes=[0,1,2,3,4,5,6]\n",
        "tem=[]"
      ]
    },
    {
      "cell_type": "markdown",
      "metadata": {
        "id": "Bo0s-2S2lB50"
      },
      "source": [
        "**Initialisation et entrainement des modèles**"
      ]
    },
    {
      "cell_type": "code",
      "execution_count": null,
      "metadata": {
        "id": "wvr3eb0zvcV3"
      },
      "outputs": [],
      "source": [
        "models = []\n",
        "for i in classes:\n",
        "    model = LogisticRegression(solver='liblinear')\n",
        "    y_train_i = (y_train == i)\n",
        "    start_time = time.time()\n",
        "    model.fit(X_train, y_train_i)\n",
        "    end_time = time.time()\n",
        "    total_time = end_time - start_time\n",
        "    tem.append(total_time)\n",
        "    models.append(model)\n",
        "\n"
      ]
    },
    {
      "cell_type": "code",
      "execution_count": null,
      "metadata": {
        "colab": {
          "base_uri": "https://localhost:8080/"
        },
        "id": "CrYCOL-YRNF1",
        "outputId": "b575b496-c4e3-4df4-f6e0-786d029155b4"
      },
      "outputs": [
        {
          "output_type": "execute_result",
          "data": {
            "text/plain": [
              "[0.5552654266357422,\n",
              " 0.2619783878326416,\n",
              " 0.2598247528076172,\n",
              " 0.2627439498901367,\n",
              " 0.21956825256347656,\n",
              " 0.1655106544494629,\n",
              " 0.2282700538635254]"
            ]
          },
          "metadata": {},
          "execution_count": 29
        }
      ],
      "source": [
        "tem"
      ]
    },
    {
      "cell_type": "markdown",
      "metadata": {
        "id": "zWeKEZvSlNSm"
      },
      "source": [
        "**Prédiction sur l'ensemble de test**"
      ]
    },
    {
      "cell_type": "code",
      "execution_count": null,
      "metadata": {
        "id": "unRlyLnGRDwG"
      },
      "outputs": [],
      "source": [
        "y_pred = []\n",
        "for model in models:\n",
        "    y_pred_i = model.predict(X_test)\n",
        "    y_pred.append(y_pred_i)\n",
        "y_pred = np.array(y_pred)\n",
        "y_pred = np.argmax(y_pred.T, axis=1)"
      ]
    },
    {
      "cell_type": "code",
      "execution_count": null,
      "metadata": {
        "colab": {
          "base_uri": "https://localhost:8080/"
        },
        "id": "yYVZj394SuLc",
        "outputId": "349817e9-51bc-4a0a-a5f9-e4e1a485daa4"
      },
      "outputs": [
        {
          "output_type": "stream",
          "name": "stdout",
          "text": [
            "Accuracy: 0.8123134328358209\n"
          ]
        }
      ],
      "source": [
        "accuracy = accuracy_score(y_test, y_pred)\n",
        "print('Accuracy:', accuracy)"
      ]
    },
    {
      "cell_type": "markdown",
      "metadata": {
        "id": "4u0fcb5GM2ic"
      },
      "source": [
        "**Evaluation**"
      ]
    },
    {
      "cell_type": "code",
      "execution_count": null,
      "metadata": {
        "colab": {
          "base_uri": "https://localhost:8080/"
        },
        "id": "es7fAxtMM3w0",
        "outputId": "a12f0fae-9e2d-48e7-baf0-021a76a85561"
      },
      "outputs": [
        {
          "output_type": "stream",
          "name": "stdout",
          "text": [
            "LogisticRegression accuracy 0.8123134328358209\n",
            "LogisticRegression Precision 0.8232064441691064\n",
            "LogisticRegression recall 0.8123134328358209\n",
            "LogisticRegression avrage f1 0.7578285847166016\n"
          ]
        }
      ],
      "source": [
        "print('LogisticRegression accuracy '+str(accuracy_score(y_test, y_pred, )))\n",
        "print ('LogisticRegression Precision '+str(precision_score(y_test, y_pred, average='weighted', zero_division=1)))\n",
        "print('LogisticRegression recall '+str(recall_score(y_test, y_pred, average='weighted', zero_division=1)))\n",
        "print('LogisticRegression avrage f1 '+str(f1_score(y_test, y_pred, average='weighted', zero_division=1)))"
      ]
    },
    {
      "cell_type": "code",
      "execution_count": null,
      "metadata": {
        "colab": {
          "base_uri": "https://localhost:8080/"
        },
        "id": "p8kfUwracQ5W",
        "outputId": "6bf856d4-c7b4-4769-c8d1-ce7fa7c5b6da"
      },
      "outputs": [
        {
          "output_type": "stream",
          "name": "stdout",
          "text": [
            "              precision    recall  f1-score   support\n",
            "\n",
            "         0.0       0.79      0.98      0.88      3683\n",
            "         1.0       1.00      0.00      0.00       359\n",
            "         2.0       0.00      0.00      0.00        30\n",
            "         3.0       0.96      0.60      0.74       592\n",
            "         4.0       0.75      0.38      0.50         8\n",
            "         5.0       0.67      0.03      0.06       269\n",
            "         6.0       0.90      0.86      0.88       419\n",
            "\n",
            "    accuracy                           0.81      5360\n",
            "   macro avg       0.72      0.41      0.44      5360\n",
            "weighted avg       0.82      0.81      0.76      5360\n",
            "\n"
          ]
        }
      ],
      "source": [
        "print(classification_report(y_test, y_pred, zero_division=1))"
      ]
    },
    {
      "cell_type": "markdown",
      "metadata": {
        "id": "NH4ui0vEM38f"
      },
      "source": [
        "**Matrice de confusion**"
      ]
    },
    {
      "cell_type": "code",
      "execution_count": null,
      "metadata": {
        "colab": {
          "base_uri": "https://localhost:8080/",
          "height": 696
        },
        "id": "mqs3O4NPM4G4",
        "outputId": "06ddcbc5-0825-4b5c-f964-7dbfbfcdf059"
      },
      "outputs": [
        {
          "output_type": "display_data",
          "data": {
            "text/plain": [
              "<Figure size 800x800 with 2 Axes>"
            ],
            "image/png": "[encoded data removed]"
          },
          "metadata": {}
        }
      ],
      "source": [
        "cm=confusion_matrix(y_test, y_pred)\n",
        "f, ax = plt.subplots(figsize=(8,8))\n",
        "sns.heatmap(cm, annot=True)\n",
        "plt.xlabel(\"Les classes prédites\")\n",
        "plt.ylabel(\"Les classes réelles\")\n",
        "plt.show()\n"
      ]
    },
    {
      "cell_type": "markdown",
      "metadata": {
        "id": "NiXNWGtzZPAi"
      },
      "source": [
        "**La méthode One vs One Manuellement**"
      ]
    },
    {
      "cell_type": "code",
      "execution_count": null,
      "metadata": {
        "id": "Z5nEimaBQ5oA"
      },
      "outputs": [],
      "source": [
        "# Créer les combinaisons des classes possibles\n",
        "classes = np.arange(7)\n",
        "class_pairs = list(combinations(classes, 2))\n",
        "times=[]"
      ]
    },
    {
      "cell_type": "code",
      "execution_count": null,
      "metadata": {
        "id": "Y8gMdFCFOA56"
      },
      "outputs": [],
      "source": [
        "classifiers = []\n",
        "for pair in class_pairs:\n",
        "    # Extraire les exemples correspondant à la paire de classes\n",
        "    X_pair = X_train[(y_train == pair[0]) | (y_train == pair[1])]\n",
        "    y_pair = y_train[(y_train == pair[0]) | (y_train == pair[1])]\n",
        "    # Entraîner le classificateur binaire correspondant\n",
        "    clf = LogisticRegression(max_iter=1000)\n",
        "    start_time = time.time()\n",
        "    clf.fit(X_pair, y_pair)\n",
        "    t = time.time() - start_time\n",
        "    times.append (t)\n",
        "    classifiers.append(clf)\n",
        "\n"
      ]
    },
    {
      "cell_type": "code",
      "execution_count": null,
      "metadata": {
        "colab": {
          "base_uri": "https://localhost:8080/"
        },
        "id": "lRFPNK2so_tL",
        "outputId": "7f38fb6f-8c42-4b71-c545-fad1c1164c8c"
      },
      "outputs": [
        {
          "output_type": "execute_result",
          "data": {
            "text/plain": [
              "[0.4272942543029785,\n",
              " 0.4746577739715576,\n",
              " 0.4663968086242676,\n",
              " 0.2717914581298828,\n",
              " 0.18796825408935547,\n",
              " 0.35421276092529297,\n",
              " 0.04092860221862793,\n",
              " 0.047867774963378906,\n",
              " 0.023497343063354492,\n",
              " 0.028607845306396484,\n",
              " 0.04654836654663086,\n",
              " 0.053252458572387695,\n",
              " 0.026185989379882812,\n",
              " 0.04785418510437012,\n",
              " 0.047499656677246094,\n",
              " 0.07437467575073242,\n",
              " 0.03582882881164551,\n",
              " 0.05447793006896973,\n",
              " 0.016746044158935547,\n",
              " 0.02543163299560547,\n",
              " 0.02535867691040039]"
            ]
          },
          "metadata": {},
          "execution_count": 37
        }
      ],
      "source": [
        "times"
      ]
    },
    {
      "cell_type": "markdown",
      "metadata": {
        "id": "pF8U1N3xBZHa"
      },
      "source": [
        "**Prédire sur l'ensemble de test**"
      ]
    },
    {
      "cell_type": "code",
      "execution_count": null,
      "metadata": {
        "id": "CeybTd0mBU09"
      },
      "outputs": [],
      "source": [
        "predictions = np.zeros((X_test.shape[0], len(class_pairs)))\n",
        "for i, clf in enumerate(classifiers):\n",
        "    predictions[:, i] = clf.predict(X_test)\n",
        "\n"
      ]
    },
    {
      "cell_type": "markdown",
      "metadata": {
        "id": "_WCgIIIxBn24"
      },
      "source": [
        "**Voter pour la classe finale pour chaque exemple**"
      ]
    },
    {
      "cell_type": "code",
      "execution_count": null,
      "metadata": {
        "id": "fvaMLCYUBnc4"
      },
      "outputs": [],
      "source": [
        "final_predictions = []\n",
        "for i in range(X_test.shape[0]):\n",
        "    votes = np.zeros(7)\n",
        "    for j, pair in enumerate(class_pairs):\n",
        "        if predictions[i, j] == pair[0]:\n",
        "            votes[pair[0]] += 1\n",
        "        else:\n",
        "            votes[pair[1]] += 1\n",
        "    final_predictions.append(np.argmax(votes))"
      ]
    },
    {
      "cell_type": "markdown",
      "metadata": {
        "id": "iwpu6CXYZ6mZ"
      },
      "source": [
        "**Evaluation**"
      ]
    },
    {
      "cell_type": "code",
      "execution_count": null,
      "metadata": {
        "colab": {
          "base_uri": "https://localhost:8080/"
        },
        "id": "ObJf5hAMBjWH",
        "outputId": "0ae4ac83-34cc-4c38-a264-2e06c9ac0800"
      },
      "outputs": [
        {
          "output_type": "stream",
          "name": "stdout",
          "text": [
            "Accuracy: 0.8561567164179105\n"
          ]
        }
      ],
      "source": [
        "accuracy = np.mean(np.array(final_predictions) == y_test)\n",
        "print(\"Accuracy:\", accuracy)"
      ]
    },
    {
      "cell_type": "code",
      "execution_count": null,
      "metadata": {
        "colab": {
          "base_uri": "https://localhost:8080/"
        },
        "id": "uvBIIV6rZaN_",
        "outputId": "cc5781a4-a1e3-4b7f-998e-cf1685762de4"
      },
      "outputs": [
        {
          "output_type": "stream",
          "name": "stdout",
          "text": [
            "Logistic Regression accuracy 0.8123134328358209\n",
            "Logistic Regression Precision 0.8232064441691064\n",
            "Logistic Regression recall 0.8123134328358209\n",
            "Logistic Regression average  f1 0.7578285847166016\n"
          ]
        }
      ],
      "source": [
        "print('Logistic Regression accuracy '+str(accuracy_score(y_test, y_pred)))\n",
        "print ('Logistic Regression Precision '+str(precision_score(y_test, y_pred, average='weighted', zero_division=1)))\n",
        "print('Logistic Regression recall '+str(recall_score(y_test, y_pred, average='weighted', zero_division=1)))\n",
        "print('Logistic Regression average  f1 '+str(f1_score(y_test, y_pred, average='weighted', zero_division=1)))\n"
      ]
    },
    {
      "cell_type": "code",
      "execution_count": null,
      "metadata": {
        "colab": {
          "base_uri": "https://localhost:8080/"
        },
        "id": "7UVwe3Pscd35",
        "outputId": "1179a943-4ff1-4803-d9b1-a4921fb37621"
      },
      "outputs": [
        {
          "output_type": "stream",
          "name": "stdout",
          "text": [
            "              precision    recall  f1-score   support\n",
            "\n",
            "         0.0       0.79      0.98      0.88      3683\n",
            "         1.0       1.00      0.00      0.00       359\n",
            "         2.0       0.00      0.00      0.00        30\n",
            "         3.0       0.96      0.60      0.74       592\n",
            "         4.0       0.75      0.38      0.50         8\n",
            "         5.0       0.67      0.03      0.06       269\n",
            "         6.0       0.90      0.86      0.88       419\n",
            "\n",
            "    accuracy                           0.81      5360\n",
            "   macro avg       0.72      0.41      0.44      5360\n",
            "weighted avg       0.82      0.81      0.76      5360\n",
            "\n"
          ]
        }
      ],
      "source": [
        "print(classification_report(y_test, y_pred, zero_division=1))"
      ]
    },
    {
      "cell_type": "markdown",
      "metadata": {
        "id": "-m4HvXGCaAog"
      },
      "source": [
        "**Matrice de confusion**"
      ]
    },
    {
      "cell_type": "code",
      "execution_count": null,
      "metadata": {
        "colab": {
          "base_uri": "https://localhost:8080/",
          "height": 696
        },
        "id": "bCFT0ut-ZaQ4",
        "outputId": "649826dc-e4de-44e7-ff01-0ba7fd9d78be"
      },
      "outputs": [
        {
          "output_type": "display_data",
          "data": {
            "text/plain": [
              "<Figure size 800x800 with 2 Axes>"
            ],
            "image/png": "[encoded data removed]"
          },
          "metadata": {}
        }
      ],
      "source": [
        "cm=confusion_matrix(y_test, y_pred)\n",
        "f, ax = plt.subplots(figsize=(8,8))\n",
        "sns.heatmap(cm, annot=True)\n",
        "plt.xlabel(\"Les classes prédites\")\n",
        "plt.ylabel(\"Les classes réelles\")\n",
        "plt.show()\n"
      ]
    },
    {
      "cell_type": "markdown",
      "metadata": {
        "id": "O9cQ3hrO51nK"
      },
      "source": [
        "# **Partie 2 : implémentation du deuxième classificateur : Radius Neighbors Classifier**"
      ]
    },
    {
      "cell_type": "markdown",
      "metadata": {
        "id": "54uP_CkV6jt6"
      },
      "source": [
        "Le classificateur Radius Neighbors Classifier est un algorithme d'apprentissage supervisé non paramétrique qui se base sur la distance euclidienne entre les données. Il est similaire au KNN: K-Nearest Neighbors Classifier, mais au lieu de prendre en compte les k voisins les plus proches, il considère tous les voisins situés à une distance donnée appelée \"radius\".\n",
        "\n",
        "**Fonctionnement :** Le fonctionnement du classificateur Radius Neighbors Classifier se fait en deux étapes. Tout d'abord, l'algorithme détermine le rayon à partir d'une valeur donnée (hyperparamètre) et de l'ensemble de données d'entraînement.\n",
        "Ensuite, pour chaque observation dans l'ensemble de données de test, le classificateur Radius Neighbors Classifier identifie tous les points de l'ensemble d'entraînement qui se trouvent dans le rayon spécifié autour de l'observation.\n",
        "Le classificateur attribue ensuite la classe majoritaire de ces voisins à l'observation en question."
      ]
    },
    {
      "cell_type": "markdown",
      "metadata": {
        "id": "HAcjuWe75AQe"
      },
      "source": [
        "**Chercher le meilleur rayoon**"
      ]
    },
    {
      "cell_type": "code",
      "execution_count": null,
      "metadata": {
        "id": "30Mx68AR2hnt"
      },
      "outputs": [],
      "source": [
        "#Définir une liste contenant les rayons possibles\n",
        "radii = [0.1, 0.5, 1,1.25,1.5, 1.75, 2,2.25,2.5,2.75,3, 4, 5]"
      ]
    },
    {
      "cell_type": "code",
      "execution_count": null,
      "metadata": {
        "id": "PzLuheAlnBdT"
      },
      "outputs": [],
      "source": []
    },
    {
      "cell_type": "code",
      "execution_count": null,
      "metadata": {
        "id": "h2H6agoR8tRW"
      },
      "outputs": [],
      "source": [
        "best_radius = None\n",
        "best_accuracy = 0"
      ]
    },
    {
      "cell_type": "code",
      "execution_count": null,
      "metadata": {
        "id": "3nURlNNr8vEu"
      },
      "outputs": [],
      "source": [
        "# Parcourir les rayons et trouver le meilleur\n",
        "for radius in radii:\n",
        "    clf = RadiusNeighborsClassifier(radius=radius)\n",
        "    scores = cross_val_score(clf, X, y, cv=5)\n",
        "    accuracy = np.mean(scores)\n",
        "    if accuracy > best_accuracy:\n",
        "        best_accuracy = accuracy\n",
        "        best_radius = radius"
      ]
    },
    {
      "cell_type": "code",
      "execution_count": null,
      "metadata": {
        "id": "YhbPn8EF8zG2",
        "colab": {
          "base_uri": "https://localhost:8080/"
        },
        "outputId": "2a40650f-d98c-4beb-9842-f060241e2f0a"
      },
      "outputs": [
        {
          "output_type": "stream",
          "name": "stdout",
          "text": [
            "Le meilleur rayon est de : 2.25\n",
            "La précision associée est de : 0.7101492537313433\n"
          ]
        }
      ],
      "source": [
        "# Afficher le meilleur rayon et la meilleure précision associée\n",
        "print(\"Le meilleur rayon est de :\", best_radius)\n",
        "print(\"La précision associée est de :\", best_accuracy)"
      ]
    },
    {
      "cell_type": "markdown",
      "metadata": {
        "id": "ZjNF2Ji0A-oa"
      },
      "source": [
        "**Utiliser le meilleur rayon trouvé**"
      ]
    },
    {
      "cell_type": "code",
      "execution_count": null,
      "metadata": {
        "id": "A_M4vtnc6RG5"
      },
      "outputs": [],
      "source": [
        "rn = RadiusNeighborsClassifier(radius=2.25)"
      ]
    },
    {
      "cell_type": "code",
      "execution_count": null,
      "metadata": {
        "id": "g3853Sh66RJj",
        "colab": {
          "base_uri": "https://localhost:8080/"
        },
        "outputId": "46db627e-6b37-4d3a-eb33-6cd0a03684ed"
      },
      "outputs": [
        {
          "output_type": "stream",
          "name": "stdout",
          "text": [
            "Temps pris pour construire le modèle :  0.04174494743347168  secondes\n"
          ]
        }
      ],
      "source": [
        "start_time = time.time()\n",
        "rn.fit(X_train, y_train)\n",
        "end_time = time.time()\n",
        "total_time = end_time - start_time\n",
        "\n",
        "print(\"Temps pris pour construire le modèle : \", total_time, \" secondes\")"
      ]
    },
    {
      "cell_type": "markdown",
      "metadata": {
        "id": "yr5UNd1PsrDZ"
      },
      "source": [
        "**Faire la prédiction sur les données de test**"
      ]
    },
    {
      "cell_type": "code",
      "execution_count": null,
      "metadata": {
        "id": "4-nMba_-6RMF"
      },
      "outputs": [],
      "source": [
        "y_pred = rn.predict(X_test)"
      ]
    },
    {
      "cell_type": "markdown",
      "metadata": {
        "id": "yvHl6QYN9z0q"
      },
      "source": [
        "**Evaluation**"
      ]
    },
    {
      "cell_type": "code",
      "execution_count": null,
      "metadata": {
        "id": "7yODcv4w6RPn",
        "colab": {
          "base_uri": "https://localhost:8080/"
        },
        "outputId": "64382d5a-13e8-41ce-d58d-bc3852c11768"
      },
      "outputs": [
        {
          "output_type": "stream",
          "name": "stdout",
          "text": [
            "Radius Neighbors Classifier accuracy 0.717723880597015\n",
            "Radius Neighbors Classifier Precision 0.7902843984113568\n",
            "Radius Neighbors Classifier recall 0.717723880597015\n",
            "Radius Neighbors Classifier avrage f1 0.620704884079126\n"
          ]
        }
      ],
      "source": [
        "print('Radius Neighbors Classifier accuracy '+str(accuracy_score(y_test, y_pred)))\n",
        "print ('Radius Neighbors Classifier Precision '+str(precision_score(y_test, y_pred, average='weighted', zero_division=1)))\n",
        "print('Radius Neighbors Classifier recall '+str(recall_score(y_test, y_pred, average='weighted', zero_division=1)))\n",
        "print('Radius Neighbors Classifier avrage f1 '+str(f1_score(y_test, y_pred, average='weighted', zero_division=1)))"
      ]
    },
    {
      "cell_type": "code",
      "execution_count": null,
      "metadata": {
        "id": "ORcQMc2Pkhn1",
        "colab": {
          "base_uri": "https://localhost:8080/"
        },
        "outputId": "1951b247-7c8f-4671-fb60-0e457de46acf"
      },
      "outputs": [
        {
          "output_type": "stream",
          "name": "stdout",
          "text": [
            "              precision    recall  f1-score   support\n",
            "\n",
            "         0.0       0.71      0.99      0.83      3683\n",
            "         1.0       1.00      0.00      0.00       359\n",
            "         2.0       1.00      0.00      0.00        30\n",
            "         3.0       0.92      0.31      0.46       592\n",
            "         4.0       0.00      0.00      0.00         8\n",
            "         5.0       1.00      0.00      0.00       269\n",
            "         6.0       1.00      0.00      0.00       419\n",
            "\n",
            "    accuracy                           0.72      5360\n",
            "   macro avg       0.80      0.19      0.18      5360\n",
            "weighted avg       0.79      0.72      0.62      5360\n",
            "\n"
          ]
        }
      ],
      "source": [
        "print(classification_report(y_test, y_pred, zero_division=1))"
      ]
    },
    {
      "cell_type": "markdown",
      "metadata": {
        "id": "VgGv89Wg924T"
      },
      "source": [
        "**Matrice de confusion**"
      ]
    },
    {
      "cell_type": "code",
      "execution_count": null,
      "metadata": {
        "id": "JzxS0NxI92Jl",
        "colab": {
          "base_uri": "https://localhost:8080/",
          "height": 696
        },
        "outputId": "7f33da29-88f4-4df8-da8e-8bf17b79925d"
      },
      "outputs": [
        {
          "output_type": "display_data",
          "data": {
            "text/plain": [
              "<Figure size 800x800 with 2 Axes>"
            ],
            "image/png": "[encoded data removed]"
          },
          "metadata": {}
        }
      ],
      "source": [
        "cm=confusion_matrix(y_test, y_pred)\n",
        "f, ax=plt.subplots(figsize=(8,8))\n",
        "sns.heatmap(cm, annot=True, fmt=\".0f\", ax=ax)\n",
        "plt.xlabel(\"Les classes prédites\")\n",
        "plt.xlabel(\"Les classes réelles\")\n",
        "plt.show()"
      ]
    },
    {
      "cell_type": "code",
      "source": [
        "# Création d'un modèle RadiusNeighborsClassifier\n",
        "model = RadiusNeighborsClassifier()"
      ],
      "metadata": {
        "id": "KyJqQbxk2t1m"
      },
      "execution_count": null,
      "outputs": []
    },
    {
      "cell_type": "code",
      "source": [
        "# Définition des distributions d'hyperparamètres à tester\n",
        "param_dist = {'radius': uniform(0, 2), 'weights': ['uniform', 'distance'], 'algorithm': ['auto', 'ball_tree', 'kd_tree', 'brute']}"
      ],
      "metadata": {
        "id": "qV-J0cFr2zb9"
      },
      "execution_count": null,
      "outputs": []
    },
    {
      "cell_type": "code",
      "source": [
        "# Exécution de la recherche aléatoire pour trouver les meilleurs hyperparamètres\n",
        "random_search = RandomizedSearchCV(model, param_distributions=param_dist, cv=5)"
      ],
      "metadata": {
        "id": "U4FrKoHJ25w2"
      },
      "execution_count": null,
      "outputs": []
    },
    {
      "cell_type": "code",
      "source": [
        "%%time\n",
        "random_search.fit(X_train, y_train)"
      ],
      "metadata": {
        "id": "jG4pRuF720fw"
      },
      "execution_count": null,
      "outputs": []
    },
    {
      "cell_type": "code",
      "source": [
        "print(\"Meilleurs hyperparamètres: \", random_search.best_params_)\n",
        "print(\"Précision du modèle : \", random_search.best_score_)"
      ],
      "metadata": {
        "colab": {
          "base_uri": "https://localhost:8080/"
        },
        "id": "JTRIw0792ROR",
        "outputId": "b98cdabc-1cc2-43c7-9706-bf0bc0a2df3d"
      },
      "execution_count": null,
      "outputs": [
        {
          "output_type": "stream",
          "name": "stdout",
          "text": [
            "Meilleurs hyperparamètres:  {'algorithm': 'ball_tree', 'radius': 1.8271542140541168, 'weights': 'distance'}\n",
            "Précision du modèle :  0.9252977059955796\n"
          ]
        }
      ]
    }
  ],
  "metadata": {
    "colab": {
      "provenance": []
    },
    "kernelspec": {
      "display_name": "Python 3",
      "name": "python3"
    },
    "language_info": {
      "name": "python"
    }
  },
  "nbformat": 4,
  "nbformat_minor": 0
}